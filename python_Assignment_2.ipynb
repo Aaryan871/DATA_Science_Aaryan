{
  "nbformat": 4,
  "nbformat_minor": 0,
  "metadata": {
    "colab": {
      "provenance": []
    },
    "kernelspec": {
      "name": "python3",
      "display_name": "Python 3"
    },
    "language_info": {
      "name": "python"
    }
  },
  "cells": [
    {
      "cell_type": "markdown",
      "source": [
        "Q. 1  What are the benefits of using Python language as a tool in the present scenario?"
      ],
      "metadata": {
        "id": "vqi1LlrrRGHn"
      }
    },
    {
      "cell_type": "markdown",
      "source": [
        "Q.2 What does the ‘#’ symbol do in Python?"
      ],
      "metadata": {
        "id": "d8TpgROrRO5C"
      }
    },
    {
      "cell_type": "markdown",
      "source": [
        "Q.3 What is the difference between a Mutable datatype and an Immutable data type?"
      ],
      "metadata": {
        "id": "DVayxCH1RVTD"
      }
    },
    {
      "cell_type": "markdown",
      "source": [
        "Q.4 What is List Comprehension? Give an Example."
      ],
      "metadata": {
        "id": "Ol5cS1eVRach"
      }
    },
    {
      "cell_type": "markdown",
      "source": [
        "Q.5 What is a lambda function? Give Example"
      ],
      "metadata": {
        "id": "njcRwMqARgkq"
      }
    },
    {
      "cell_type": "markdown",
      "source": [
        "Q. 6 What is the difference between / and // in Python?"
      ],
      "metadata": {
        "id": "NPW9tIXgRsRy"
      }
    },
    {
      "cell_type": "markdown",
      "source": [
        "Q. 7 What are *args and **kwargs?"
      ],
      "metadata": {
        "id": "vNqpse9gR8fp"
      }
    },
    {
      "cell_type": "markdown",
      "source": [
        "Q. 8 What is Scope in Python?"
      ],
      "metadata": {
        "id": "AqD8m4y7SAzM"
      }
    },
    {
      "cell_type": "markdown",
      "source": [
        "Q. 9 What is a break, continue, and pass in Python?"
      ],
      "metadata": {
        "id": "Xn4MAZ4qSHAu"
      }
    },
    {
      "cell_type": "markdown",
      "source": [
        "Q. 10 What are Built-in data types in Python?"
      ],
      "metadata": {
        "id": "HgHnDwWNSPEU"
      }
    },
    {
      "cell_type": "markdown",
      "source": [
        "Q. 11 What is Dictionary Comprehension? Give an Example"
      ],
      "metadata": {
        "id": "HndyO-hWSVlu"
      }
    },
    {
      "cell_type": "markdown",
      "source": [
        "Q. 12 Is Tuple Comprehension? If yes, how, and if not why?\n",
        "\n",
        "(i for i in (1, 2, 3))"
      ],
      "metadata": {
        "id": "nhKlL12cSm5H"
      }
    },
    {
      "cell_type": "markdown",
      "source": [
        "Q. 13 How to delete a file using Python?"
      ],
      "metadata": {
        "id": "j6lzYIOYSua1"
      }
    },
    {
      "cell_type": "markdown",
      "source": [
        "Q. 14 what is (if-elif-else) statement. describe with example"
      ],
      "metadata": {
        "id": "_VoEEi5rSz-g"
      }
    },
    {
      "cell_type": "markdown",
      "source": [
        "Q.15 What is (for-while loops). explain with example"
      ],
      "metadata": {
        "id": "OrHbTVe5TAQX"
      }
    },
    {
      "cell_type": "markdown",
      "source": [
        "Q. 16 what is function. how its works ?"
      ],
      "metadata": {
        "id": "YlEQHLRKTLpK"
      }
    },
    {
      "cell_type": "markdown",
      "source": [
        "Q 17 What is HOF (higher order function) explain."
      ],
      "metadata": {
        "id": "VcRrUaTBTSdl"
      }
    },
    {
      "cell_type": "markdown",
      "source": [
        "Q. 18 define (MAP-Reduce-filter) describe with example"
      ],
      "metadata": {
        "id": "PlihVzT-TeJp"
      }
    },
    {
      "cell_type": "markdown",
      "source": [
        "Q  19 Advanced Ticket Pricing\n",
        "\n",
        "Question: Write a function calculate_ticket_price(age, time_of_day) that calculates the price of a movie ticket based on age and time of day:\n",
        "\n",
        "For ages 0-12, the ticket is 5rs  if the movie is before 5 PM, otherwise 7rs.\n",
        "\n",
        "For ages 13-64, the ticket is 10rs  if the movie is before 5 PM, otherwise 12rs.\n",
        "\n",
        "For ages 65 and above, the ticket is 7rs  if the movie is before 5 PM, otherwise 9rs.\n",
        "\n",
        "time_of_day is a string in the format \"HH:MM\" (24-hour format).\n",
        "\n",
        "explain this code"
      ],
      "metadata": {
        "id": "RrwS9FgAVc90"
      }
    },
    {
      "cell_type": "code",
      "source": [
        "def calculate_ticket_price(age, time_of_day):\n",
        "    hour = int(time_of_day.split(':')[0])\n",
        "    if hour < 17:  # Before 5 PM\n",
        "        if age <= 12:\n",
        "            return 5\n",
        "        elif age <= 64:\n",
        "            return 10\n",
        "        else:\n",
        "            return 7\n",
        "    else:  # After 5 PM\n",
        "        if age <= 12:\n",
        "            return 7\n",
        "        elif age <= 64:\n",
        "            return 12\n",
        "        else:\n",
        "            return 9\n"
      ],
      "metadata": {
        "id": "flD8FEXYWX47"
      },
      "execution_count": null,
      "outputs": []
    },
    {
      "cell_type": "markdown",
      "source": [],
      "metadata": {
        "id": "UDqF7UGiWCYx"
      }
    }
  ]
}